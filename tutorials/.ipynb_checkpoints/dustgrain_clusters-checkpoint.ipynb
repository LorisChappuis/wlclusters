{
 "cells": [
  {
   "cell_type": "code",
   "execution_count": 2,
   "id": "a79967b3",
   "metadata": {},
   "outputs": [],
   "source": [
    "import pymc as pm\n",
    "import numpy as np\n",
    "from astropy import units as u\n",
    "from astropy import constants as c\n",
    "import arviz as az\n",
    "from astropy.table import Table\n",
    "import matplotlib.pyplot as plt\n",
    "from tqdm import tqdm"
   ]
  },
  {
   "cell_type": "code",
   "execution_count": 3,
   "id": "ee16c743",
   "metadata": {},
   "outputs": [],
   "source": [
    "from astropy.cosmology import FlatLambdaCDM\n",
    "\n",
    "# Define the parameters\n",
    "Omega_M = 0.31345\n",
    "Omega_b = 0.0481\n",
    "Omega_Lambda = 0.68655\n",
    "h = 0.6731\n",
    "sigma8 = 0.847\n",
    "\n",
    "# Calculate Omega_CDM\n",
    "Omega_CDM = Omega_M - Omega_b\n",
    "\n",
    "# Define the cosmology\n",
    "cosmo = FlatLambdaCDM(H0=h*100, Om0=Omega_M, Ob0=Omega_b)"
   ]
  },
  {
   "cell_type": "code",
   "execution_count": 5,
   "id": "345071b3",
   "metadata": {},
   "outputs": [],
   "source": [
    "import wlclusters as wlcl\n",
    "\n",
    "cluster_cat = Table.read('./dustgrain_cluster_catalogue.fits', format='fits')\n",
    "\n",
    "sources = Table.read('./detected_clusters.fits', format='fits', memmap=True)\n",
    "bin_edges = np.logspace(np.log10(0.3), np.log10(3.0), 8)  # in Mpc\n",
    "\n"
   ]
  },
  {
   "cell_type": "code",
   "execution_count": 6,
   "id": "338b855d",
   "metadata": {},
   "outputs": [
    {
     "data": {
      "text/html": [
       "<div><i>Table length=384</i>\n",
       "<table id=\"table5064882128\" class=\"table-striped table-bordered table-condensed\">\n",
       "<thead><tr><th>lens_id</th><th>mfof</th><th>RA</th><th>Dec</th><th>z</th><th>dc</th><th>m200c</th><th>r200c</th></tr></thead>\n",
       "<thead><tr><th>int64</th><th>float64</th><th>float64</th><th>float64</th><th>float64</th><th>float64</th><th>float64</th><th>float64</th></tr></thead>\n",
       "<tr><td>0</td><td>1388290000000000.0</td><td>268.4797064938386</td><td>258.6231338956639</td><td>0.290868</td><td>812.578</td><td>1143230000000000.0</td><td>1902.82</td></tr>\n",
       "<tr><td>1</td><td>639796000000000.0</td><td>271.0924380427938</td><td>171.45115752149246</td><td>0.767805</td><td>1876.09</td><td>631815000000000.0</td><td>1811.67</td></tr>\n",
       "<tr><td>2</td><td>605203000000000.0</td><td>93.81198437111871</td><td>20.128988539213744</td><td>0.669849</td><td>1681.29</td><td>491970000000000.0</td><td>1637.11</td></tr>\n",
       "<tr><td>3</td><td>483274000000000.0</td><td>67.59666256423444</td><td>324.48944969174704</td><td>0.904115</td><td>2127.51</td><td>359255000000000.0</td><td>1550.49</td></tr>\n",
       "<tr><td>4</td><td>472742000000000.0</td><td>303.10790419976706</td><td>462.6182982883803</td><td>0.397077</td><td>1076.46</td><td>458021000000000.0</td><td>1464.34</td></tr>\n",
       "<tr><td>...</td><td>...</td><td>...</td><td>...</td><td>...</td><td>...</td><td>...</td><td>...</td></tr>\n",
       "<tr><td>378</td><td>29492300000000.0</td><td>434.3917387760666</td><td>52.19321019598904</td><td>0.175404</td><td>504.509</td><td>27952800000000.0</td><td>523.545</td></tr>\n",
       "<tr><td>379</td><td>27790900000000.0</td><td>398.1900467871184</td><td>69.65659709858765</td><td>0.0431913</td><td>126.116</td><td>23253500000000.0</td><td>464.166</td></tr>\n",
       "<tr><td>380</td><td>27061600000000.0</td><td>369.15910953438924</td><td>368.450952034257</td><td>0.0964678</td><td>284.25</td><td>24468900000000.0</td><td>472.139</td></tr>\n",
       "<tr><td>381</td><td>25117100000000.0</td><td>321.0630704036175</td><td>352.48719277899727</td><td>0.127934</td><td>370.788</td><td>22038200000000.0</td><td>483.657</td></tr>\n",
       "<tr><td>382</td><td>24468900000000.0</td><td>341.17662087547654</td><td>215.7983035465517</td><td>0.128997</td><td>372.661</td><td>23172500000000.0</td><td>491.822</td></tr>\n",
       "<tr><td>383</td><td>20660800000000.0</td><td>273.77328648136404</td><td>426.04639305785514</td><td>0.0460401</td><td>139.259</td><td>18797300000000.0</td><td>432.378</td></tr>\n",
       "</table></div>"
      ],
      "text/plain": [
       "<Table length=384>\n",
       "lens_id        mfof                RA         ...       m200c         r200c \n",
       " int64       float64            float64       ...      float64       float64\n",
       "------- ------------------ ------------------ ... ------------------ -------\n",
       "      0 1388290000000000.0  268.4797064938386 ... 1143230000000000.0 1902.82\n",
       "      1  639796000000000.0  271.0924380427938 ...  631815000000000.0 1811.67\n",
       "      2  605203000000000.0  93.81198437111871 ...  491970000000000.0 1637.11\n",
       "      3  483274000000000.0  67.59666256423444 ...  359255000000000.0 1550.49\n",
       "      4  472742000000000.0 303.10790419976706 ...  458021000000000.0 1464.34\n",
       "    ...                ...                ... ...                ...     ...\n",
       "    378   29492300000000.0  434.3917387760666 ...   27952800000000.0 523.545\n",
       "    379   27790900000000.0  398.1900467871184 ...   23253500000000.0 464.166\n",
       "    380   27061600000000.0 369.15910953438924 ...   24468900000000.0 472.139\n",
       "    381   25117100000000.0  321.0630704036175 ...   22038200000000.0 483.657\n",
       "    382   24468900000000.0 341.17662087547654 ...   23172500000000.0 491.822\n",
       "    383   20660800000000.0 273.77328648136404 ...   18797300000000.0 432.378"
      ]
     },
     "execution_count": 6,
     "metadata": {},
     "output_type": "execute_result"
    }
   ],
   "source": [
    "cluster_cat"
   ]
  },
  {
   "cell_type": "markdown",
   "id": "e1f0311a",
   "metadata": {},
   "source": [
    "## Using the cluster catalogue and the source catalogue, the \"shear_extraction\" function will extract the 1D shear profile around each cluster, in a given radial range (bin_edges) and using sources at a given redshift behind the lens (dz)."
   ]
  },
  {
   "cell_type": "code",
   "execution_count": 7,
   "id": "0612c060",
   "metadata": {},
   "outputs": [
    {
     "name": "stderr",
     "output_type": "stream",
     "text": [
      "  0%|                                                   | 0/384 [00:00<?, ?it/s]\n"
     ]
    },
    {
     "ename": "KeyError",
     "evalue": "'z_p'",
     "output_type": "error",
     "traceback": [
      "\u001b[0;31m---------------------------------------------------------------------------\u001b[0m",
      "\u001b[0;31mKeyError\u001b[0m                                  Traceback (most recent call last)",
      "File \u001b[0;32m~/anaconda3/envs/pymc5_env/lib/python3.11/site-packages/astropy/table/row.py:52\u001b[0m, in \u001b[0;36mRow.__getitem__\u001b[0;34m(self, item)\u001b[0m\n\u001b[1;32m     48\u001b[0m \u001b[38;5;28;01mtry\u001b[39;00m:\n\u001b[1;32m     49\u001b[0m     \u001b[38;5;66;03m# Try the most common use case of accessing a single column in the Row.\u001b[39;00m\n\u001b[1;32m     50\u001b[0m     \u001b[38;5;66;03m# Bypass the TableColumns __getitem__ since that does more testing\u001b[39;00m\n\u001b[1;32m     51\u001b[0m     \u001b[38;5;66;03m# and allows a list of tuple or str, which is not the right thing here.\u001b[39;00m\n\u001b[0;32m---> 52\u001b[0m     out \u001b[38;5;241m=\u001b[39m OrderedDict\u001b[38;5;241m.\u001b[39m\u001b[38;5;21m__getitem__\u001b[39m(\u001b[38;5;28mself\u001b[39m\u001b[38;5;241m.\u001b[39m_table\u001b[38;5;241m.\u001b[39mcolumns, item)[\u001b[38;5;28mself\u001b[39m\u001b[38;5;241m.\u001b[39m_index]\n\u001b[1;32m     53\u001b[0m \u001b[38;5;28;01mexcept\u001b[39;00m (\u001b[38;5;167;01mKeyError\u001b[39;00m, \u001b[38;5;167;01mTypeError\u001b[39;00m):\n",
      "\u001b[0;31mKeyError\u001b[0m: 'z_p'",
      "\nDuring handling of the above exception, another exception occurred:\n",
      "\u001b[0;31mKeyError\u001b[0m                                  Traceback (most recent call last)",
      "Cell \u001b[0;32mIn[7], line 2\u001b[0m\n\u001b[1;32m      1\u001b[0m \u001b[38;5;66;03m# Extract shear profiles\u001b[39;00m\n\u001b[0;32m----> 2\u001b[0m shear_profiles \u001b[38;5;241m=\u001b[39m wlcl\u001b[38;5;241m.\u001b[39mshear_extraction(cluster_cat\u001b[38;5;241m=\u001b[39mcluster_cat, \n\u001b[1;32m      3\u001b[0m                                   sources\u001b[38;5;241m=\u001b[39msources, \n\u001b[1;32m      4\u001b[0m                                   bin_edges\u001b[38;5;241m=\u001b[39mbin_edges,\n\u001b[1;32m      5\u001b[0m                                   dz\u001b[38;5;241m=\u001b[39m\u001b[38;5;241m0.1\u001b[39m,\n\u001b[1;32m      6\u001b[0m                                   cosmo \u001b[38;5;241m=\u001b[39m cosmo)\n",
      "File \u001b[0;32m~/anaconda3/envs/pymc5_env/lib/python3.11/site-packages/wlclusters/shear_extraction.py:140\u001b[0m, in \u001b[0;36mshear_extraction\u001b[0;34m(cluster_cat, sources, bin_edges, dz, cosmo)\u001b[0m\n\u001b[1;32m    138\u001b[0m \u001b[38;5;28;01mfor\u001b[39;00m cluster \u001b[38;5;129;01min\u001b[39;00m tqdm(cluster_cat):\n\u001b[1;32m    139\u001b[0m     clust_center \u001b[38;5;241m=\u001b[39m [cluster[\u001b[38;5;124m'\u001b[39m\u001b[38;5;124mRA\u001b[39m\u001b[38;5;124m'\u001b[39m], cluster[\u001b[38;5;124m'\u001b[39m\u001b[38;5;124mDec\u001b[39m\u001b[38;5;124m'\u001b[39m]]\n\u001b[0;32m--> 140\u001b[0m     clust_z \u001b[38;5;241m=\u001b[39m cluster[\u001b[38;5;124m'\u001b[39m\u001b[38;5;124mz_p\u001b[39m\u001b[38;5;124m'\u001b[39m]\n\u001b[1;32m    141\u001b[0m     bin_edges_deg, bin_mean, signal, errors \u001b[38;5;241m=\u001b[39m compute_tangential_shear_profile(\n\u001b[1;32m    142\u001b[0m         sources, clust_center, clust_z, bin_edges, dz\u001b[38;5;241m=\u001b[39m\u001b[38;5;241m0.1\u001b[39m, cosmo\u001b[38;5;241m=\u001b[39mcosmo)\n\u001b[1;32m    143\u001b[0m     msci, fl \u001b[38;5;241m=\u001b[39m return_sigmacrit(sources, clust_center, clust_z, bin_edges, dz\u001b[38;5;241m=\u001b[39mdz, cosmo\u001b[38;5;241m=\u001b[39mcosmo)\n",
      "File \u001b[0;32m~/anaconda3/envs/pymc5_env/lib/python3.11/site-packages/astropy/table/row.py:59\u001b[0m, in \u001b[0;36mRow.__getitem__\u001b[0;34m(self, item)\u001b[0m\n\u001b[1;32m     56\u001b[0m         out \u001b[38;5;241m=\u001b[39m \u001b[38;5;28mself\u001b[39m\u001b[38;5;241m.\u001b[39m_table\u001b[38;5;241m.\u001b[39m\u001b[38;5;18m__class__\u001b[39m(cols, copy\u001b[38;5;241m=\u001b[39m\u001b[38;5;28;01mFalse\u001b[39;00m)[\u001b[38;5;28mself\u001b[39m\u001b[38;5;241m.\u001b[39m_index]\n\u001b[1;32m     57\u001b[0m     \u001b[38;5;28;01melse\u001b[39;00m:\n\u001b[1;32m     58\u001b[0m         \u001b[38;5;66;03m# This is only to raise an exception\u001b[39;00m\n\u001b[0;32m---> 59\u001b[0m         out \u001b[38;5;241m=\u001b[39m \u001b[38;5;28mself\u001b[39m\u001b[38;5;241m.\u001b[39m_table\u001b[38;5;241m.\u001b[39mcolumns[item][\u001b[38;5;28mself\u001b[39m\u001b[38;5;241m.\u001b[39m_index]\n\u001b[1;32m     60\u001b[0m \u001b[38;5;28;01mreturn\u001b[39;00m out\n",
      "File \u001b[0;32m~/anaconda3/envs/pymc5_env/lib/python3.11/site-packages/astropy/table/table.py:264\u001b[0m, in \u001b[0;36mTableColumns.__getitem__\u001b[0;34m(self, item)\u001b[0m\n\u001b[1;32m    253\u001b[0m \u001b[38;5;250m\u001b[39m\u001b[38;5;124;03m\"\"\"Get items from a TableColumns object.\u001b[39;00m\n\u001b[1;32m    254\u001b[0m \n\u001b[1;32m    255\u001b[0m \u001b[38;5;124;03m::\u001b[39;00m\n\u001b[0;32m   (...)\u001b[0m\n\u001b[1;32m    261\u001b[0m \u001b[38;5;124;03m  tc[1:3] # <TableColumns names=('b', 'c')>\u001b[39;00m\n\u001b[1;32m    262\u001b[0m \u001b[38;5;124;03m\"\"\"\u001b[39;00m\n\u001b[1;32m    263\u001b[0m \u001b[38;5;28;01mif\u001b[39;00m \u001b[38;5;28misinstance\u001b[39m(item, \u001b[38;5;28mstr\u001b[39m):\n\u001b[0;32m--> 264\u001b[0m     \u001b[38;5;28;01mreturn\u001b[39;00m OrderedDict\u001b[38;5;241m.\u001b[39m\u001b[38;5;21m__getitem__\u001b[39m(\u001b[38;5;28mself\u001b[39m, item)\n\u001b[1;32m    265\u001b[0m \u001b[38;5;28;01melif\u001b[39;00m \u001b[38;5;28misinstance\u001b[39m(item, (\u001b[38;5;28mint\u001b[39m, np\u001b[38;5;241m.\u001b[39minteger)):\n\u001b[1;32m    266\u001b[0m     \u001b[38;5;28;01mreturn\u001b[39;00m \u001b[38;5;28mlist\u001b[39m(\u001b[38;5;28mself\u001b[39m\u001b[38;5;241m.\u001b[39mvalues())[item]\n",
      "\u001b[0;31mKeyError\u001b[0m: 'z_p'"
     ]
    }
   ],
   "source": [
    "# Extract shear profiles\n",
    "shear_profiles = wlcl.shear_extraction(cluster_cat=cluster_cat, \n",
    "                                  sources=sources, \n",
    "                                  bin_edges=bin_edges,\n",
    "                                  dz=0.1,\n",
    "                                  cosmo = cosmo)"
   ]
  },
  {
   "cell_type": "code",
   "execution_count": 5,
   "id": "04ccceb9",
   "metadata": {},
   "outputs": [
    {
     "data": {
      "text/html": [
       "<div><i>Table length=14</i>\n",
       "<table id=\"table4754263376\" class=\"table-striped table-bordered table-condensed\">\n",
       "<thead><tr><th>ID</th><th>rin</th><th>rout</th><th>gplus</th><th>errors</th><th>msci</th><th>fl</th></tr></thead>\n",
       "<thead><tr><th>int64</th><th>float64</th><th>float64</th><th>float64</th><th>float64</th><th>float64</th><th>float64</th></tr></thead>\n",
       "<tr><td>0</td><td>1.1059754549188876</td><td>1.5367479114970757</td><td>0.1306119405566662</td><td>0.027102582198775003</td><td>3.374320103626995e-16</td><td>1.0510716806380702</td></tr>\n",
       "<tr><td>0</td><td>1.5367479114970757</td><td>2.1353042990125157</td><td>0.09986762970868862</td><td>0.01942589100181448</td><td>3.374320103626995e-16</td><td>1.0510716806380702</td></tr>\n",
       "<tr><td>0</td><td>2.1353042990125157</td><td>2.966995702593482</td><td>0.11245214245593106</td><td>0.012563285347030075</td><td>3.374320103626995e-16</td><td>1.0510716806380702</td></tr>\n",
       "<tr><td>0</td><td>2.966995702593482</td><td>4.122627160578104</td><td>0.05254860243486886</td><td>0.010218529338654051</td><td>3.374320103626995e-16</td><td>1.0510716806380702</td></tr>\n",
       "<tr><td>0</td><td>4.122627160578104</td><td>5.728371864603598</td><td>0.055047711043114664</td><td>0.006762292162084089</td><td>3.374320103626995e-16</td><td>1.0510716806380702</td></tr>\n",
       "<tr><td>...</td><td>...</td><td>...</td><td>...</td><td>...</td><td>...</td><td>...</td></tr>\n",
       "<tr><td>1</td><td>0.9085611412338037</td><td>1.262441612106886</td><td>0.06204277183996479</td><td>0.03770210371710197</td><td>2.900402337551647e-16</td><td>1.181825977580919</td></tr>\n",
       "<tr><td>1</td><td>1.262441612106886</td><td>1.7541569319316785</td><td>0.03478620025948089</td><td>0.021507675886498445</td><td>2.900402337551647e-16</td><td>1.181825977580919</td></tr>\n",
       "<tr><td>1</td><td>1.7541569319316785</td><td>2.4373931533424744</td><td>0.02725357459834395</td><td>0.015071428543976027</td><td>2.900402337551647e-16</td><td>1.181825977580919</td></tr>\n",
       "<tr><td>1</td><td>2.4373931533424744</td><td>3.3867468045853015</td><td>0.0016088370277211965</td><td>0.011720523432412693</td><td>2.900402337551647e-16</td><td>1.181825977580919</td></tr>\n",
       "<tr><td>1</td><td>3.3867468045853015</td><td>4.705869425553898</td><td>0.0021820684610775794</td><td>0.008407334589233494</td><td>2.900402337551647e-16</td><td>1.181825977580919</td></tr>\n",
       "<tr><td>1</td><td>4.705869425553898</td><td>6.538784363915449</td><td>0.014485293073330805</td><td>0.006112855256370038</td><td>2.900402337551647e-16</td><td>1.181825977580919</td></tr>\n",
       "</table></div>"
      ],
      "text/plain": [
       "<Table length=14>\n",
       "  ID         rin         ...          msci                 fl        \n",
       "int64      float64       ...        float64             float64      \n",
       "----- ------------------ ... --------------------- ------------------\n",
       "    0 1.1059754549188876 ... 3.374320103626995e-16 1.0510716806380702\n",
       "    0 1.5367479114970757 ... 3.374320103626995e-16 1.0510716806380702\n",
       "    0 2.1353042990125157 ... 3.374320103626995e-16 1.0510716806380702\n",
       "    0  2.966995702593482 ... 3.374320103626995e-16 1.0510716806380702\n",
       "    0  4.122627160578104 ... 3.374320103626995e-16 1.0510716806380702\n",
       "  ...                ... ...                   ...                ...\n",
       "    1 0.9085611412338037 ... 2.900402337551647e-16  1.181825977580919\n",
       "    1  1.262441612106886 ... 2.900402337551647e-16  1.181825977580919\n",
       "    1 1.7541569319316785 ... 2.900402337551647e-16  1.181825977580919\n",
       "    1 2.4373931533424744 ... 2.900402337551647e-16  1.181825977580919\n",
       "    1 3.3867468045853015 ... 2.900402337551647e-16  1.181825977580919\n",
       "    1  4.705869425553898 ... 2.900402337551647e-16  1.181825977580919"
      ]
     },
     "execution_count": 5,
     "metadata": {},
     "output_type": "execute_result"
    }
   ],
   "source": [
    "shear_profiles"
   ]
  },
  {
   "cell_type": "markdown",
   "id": "dacd9824",
   "metadata": {},
   "source": [
    "## We can now run the MCMC, which will return two astropy tables, one containing the posteriors of each parameter (all_chains) and one containing a wrap up of the same information: median values, 16th and 84th percentiles (results)."
   ]
  },
  {
   "cell_type": "code",
   "execution_count": 6,
   "id": "4c2f5a91",
   "metadata": {},
   "outputs": [
    {
     "name": "stderr",
     "output_type": "stream",
     "text": [
      "  0%|                                                     | 0/2 [00:00<?, ?it/s]Auto-assigning NUTS sampler...\n",
      "Initializing NUTS using jitter+adapt_diag...\n",
      "Multiprocess sampling (4 chains in 4 jobs)\n",
      "NUTS: [cdelt, rdelt]\n"
     ]
    },
    {
     "data": {
      "text/html": [
       "\n",
       "<style>\n",
       "    /* Turns off some styling */\n",
       "    progress {\n",
       "        /* gets rid of default border in Firefox and Opera. */\n",
       "        border: none;\n",
       "        /* Needs to be in here for Safari polyfill so background images work as expected. */\n",
       "        background-size: auto;\n",
       "    }\n",
       "    progress:not([value]), progress:not([value])::-webkit-progress-bar {\n",
       "        background: repeating-linear-gradient(45deg, #7e7e7e, #7e7e7e 10px, #5c5c5c 10px, #5c5c5c 20px);\n",
       "    }\n",
       "    .progress-bar-interrupted, .progress-bar-interrupted::-webkit-progress-bar {\n",
       "        background: #F44336;\n",
       "    }\n",
       "</style>\n"
      ],
      "text/plain": [
       "<IPython.core.display.HTML object>"
      ]
     },
     "metadata": {},
     "output_type": "display_data"
    },
    {
     "data": {
      "text/html": [
       "\n",
       "    <div>\n",
       "      <progress value='8000' class='' max='8000' style='width:300px; height:20px; vertical-align: middle;'></progress>\n",
       "      100.00% [8000/8000 00:03&lt;00:00 Sampling 4 chains, 0 divergences]\n",
       "    </div>\n",
       "    "
      ],
      "text/plain": [
       "<IPython.core.display.HTML object>"
      ]
     },
     "metadata": {},
     "output_type": "display_data"
    },
    {
     "name": "stderr",
     "output_type": "stream",
     "text": [
      "Sampling 4 chains for 1_000 tune and 1_000 draw iterations (4_000 + 4_000 draws total) took 4 seconds.\n",
      " 50%|██████████████████████▌                      | 1/2 [00:24<00:24, 24.38s/it]Auto-assigning NUTS sampler...\n",
      "Initializing NUTS using jitter+adapt_diag...\n",
      "Multiprocess sampling (4 chains in 4 jobs)\n",
      "NUTS: [cdelt, rdelt]\n"
     ]
    },
    {
     "data": {
      "text/html": [
       "\n",
       "<style>\n",
       "    /* Turns off some styling */\n",
       "    progress {\n",
       "        /* gets rid of default border in Firefox and Opera. */\n",
       "        border: none;\n",
       "        /* Needs to be in here for Safari polyfill so background images work as expected. */\n",
       "        background-size: auto;\n",
       "    }\n",
       "    progress:not([value]), progress:not([value])::-webkit-progress-bar {\n",
       "        background: repeating-linear-gradient(45deg, #7e7e7e, #7e7e7e 10px, #5c5c5c 10px, #5c5c5c 20px);\n",
       "    }\n",
       "    .progress-bar-interrupted, .progress-bar-interrupted::-webkit-progress-bar {\n",
       "        background: #F44336;\n",
       "    }\n",
       "</style>\n"
      ],
      "text/plain": [
       "<IPython.core.display.HTML object>"
      ]
     },
     "metadata": {},
     "output_type": "display_data"
    },
    {
     "data": {
      "text/html": [
       "\n",
       "    <div>\n",
       "      <progress value='8000' class='' max='8000' style='width:300px; height:20px; vertical-align: middle;'></progress>\n",
       "      100.00% [8000/8000 00:02&lt;00:00 Sampling 4 chains, 1 divergences]\n",
       "    </div>\n",
       "    "
      ],
      "text/plain": [
       "<IPython.core.display.HTML object>"
      ]
     },
     "metadata": {},
     "output_type": "display_data"
    },
    {
     "name": "stderr",
     "output_type": "stream",
     "text": [
      "Sampling 4 chains for 1_000 tune and 1_000 draw iterations (4_000 + 4_000 draws total) took 3 seconds.\n",
      "There were 1 divergences after tuning. Increase `target_accept` or reparameterize.\n",
      "100%|█████████████████████████████████████████████| 2/2 [00:44<00:00, 22.40s/it]\n"
     ]
    }
   ],
   "source": [
    "all_chains, results = wlcl.run(cluster_cat=cluster_cat, \n",
    "                 shear_profiles=shear_profiles, \n",
    "                 cosmo=cosmo)"
   ]
  },
  {
   "cell_type": "markdown",
   "id": "5551b7dc",
   "metadata": {},
   "source": [
    "## In the case of the Dustgrain simulation, halo masses need to be corrected by the following factor:"
   ]
  },
  {
   "cell_type": "code",
   "execution_count": 7,
   "id": "e8c8ec84",
   "metadata": {},
   "outputs": [],
   "source": [
    "def cat_correction(clust_cat):\n",
    "    h0 = 1e-2 * cosmo.H0.to(u.km/(u.Mpc * u.s)).value\n",
    "    return np.array((clust_cat['m200c'] * (h0)**2 * (1+clust_cat['z_p'])**3))"
   ]
  },
  {
   "cell_type": "code",
   "execution_count": 8,
   "id": "63e6f970",
   "metadata": {},
   "outputs": [],
   "source": [
    "cluster_cat['m200c'] = cat_correction(cluster_cat)"
   ]
  },
  {
   "cell_type": "markdown",
   "id": "08e63d29",
   "metadata": {},
   "source": [
    "## We may now compare the weak lensing masses we computed to the catalogue masses:"
   ]
  },
  {
   "cell_type": "code",
   "execution_count": 9,
   "id": "a3201d61",
   "metadata": {},
   "outputs": [
    {
     "ename": "ValueError",
     "evalue": "'x' and 'y' must have the same size",
     "output_type": "error",
     "traceback": [
      "\u001b[0;31m---------------------------------------------------------------------------\u001b[0m",
      "\u001b[0;31mValueError\u001b[0m                                Traceback (most recent call last)",
      "Cell \u001b[0;32mIn[9], line 5\u001b[0m\n\u001b[1;32m      1\u001b[0m fig \u001b[38;5;241m=\u001b[39m plt\u001b[38;5;241m.\u001b[39mfigure(figsize\u001b[38;5;241m=\u001b[39m(\u001b[38;5;241m6\u001b[39m, \u001b[38;5;241m6\u001b[39m))\n\u001b[0;32m----> 5\u001b[0m plt\u001b[38;5;241m.\u001b[39merrorbar(cluster_cat[\u001b[38;5;124m'\u001b[39m\u001b[38;5;124mm200c\u001b[39m\u001b[38;5;124m'\u001b[39m], results[\u001b[38;5;124m'\u001b[39m\u001b[38;5;124mm200_med\u001b[39m\u001b[38;5;124m'\u001b[39m]\u001b[38;5;241m/\u001b[39mcosmo\u001b[38;5;241m.\u001b[39mh, \n\u001b[1;32m      6\u001b[0m              yerr\u001b[38;5;241m=\u001b[39m[(results[\u001b[38;5;124m'\u001b[39m\u001b[38;5;124mm200_med\u001b[39m\u001b[38;5;124m'\u001b[39m] \u001b[38;5;241m-\u001b[39m results[\u001b[38;5;124m'\u001b[39m\u001b[38;5;124mm200_perc_16\u001b[39m\u001b[38;5;124m'\u001b[39m])\u001b[38;5;241m/\u001b[39mcosmo\u001b[38;5;241m.\u001b[39mh, \n\u001b[1;32m      7\u001b[0m                    (results[\u001b[38;5;124m'\u001b[39m\u001b[38;5;124mm200_perc_84\u001b[39m\u001b[38;5;124m'\u001b[39m] \u001b[38;5;241m-\u001b[39m results[\u001b[38;5;124m'\u001b[39m\u001b[38;5;124mm200_med\u001b[39m\u001b[38;5;124m'\u001b[39m])\u001b[38;5;241m/\u001b[39mcosmo\u001b[38;5;241m.\u001b[39mh], \n\u001b[1;32m      8\u001b[0m              fmt\u001b[38;5;241m=\u001b[39m\u001b[38;5;124m'\u001b[39m\u001b[38;5;124m.\u001b[39m\u001b[38;5;124m'\u001b[39m,\n\u001b[1;32m      9\u001b[0m             )\n\u001b[1;32m     12\u001b[0m plt\u001b[38;5;241m.\u001b[39mplot([\u001b[38;5;241m5e12\u001b[39m, \u001b[38;5;241m3e15\u001b[39m], [\u001b[38;5;241m5e12\u001b[39m, \u001b[38;5;241m3e15\u001b[39m], color\u001b[38;5;241m=\u001b[39m\u001b[38;5;124m'\u001b[39m\u001b[38;5;124mblack\u001b[39m\u001b[38;5;124m'\u001b[39m, label\u001b[38;5;241m=\u001b[39m\u001b[38;5;124m'\u001b[39m\u001b[38;5;124m1 to 1\u001b[39m\u001b[38;5;124m'\u001b[39m)\n\u001b[1;32m     15\u001b[0m plt\u001b[38;5;241m.\u001b[39mxlim([\u001b[38;5;241m5e12\u001b[39m, \u001b[38;5;241m3e15\u001b[39m])\n",
      "File \u001b[0;32m~/anaconda3/envs/pymc5_env/lib/python3.11/site-packages/matplotlib/pyplot.py:3027\u001b[0m, in \u001b[0;36merrorbar\u001b[0;34m(x, y, yerr, xerr, fmt, ecolor, elinewidth, capsize, barsabove, lolims, uplims, xlolims, xuplims, errorevery, capthick, data, **kwargs)\u001b[0m\n\u001b[1;32m   3006\u001b[0m \u001b[38;5;129m@_copy_docstring_and_deprecators\u001b[39m(Axes\u001b[38;5;241m.\u001b[39merrorbar)\n\u001b[1;32m   3007\u001b[0m \u001b[38;5;28;01mdef\u001b[39;00m \u001b[38;5;21merrorbar\u001b[39m(\n\u001b[1;32m   3008\u001b[0m     x: \u001b[38;5;28mfloat\u001b[39m \u001b[38;5;241m|\u001b[39m ArrayLike,\n\u001b[0;32m   (...)\u001b[0m\n\u001b[1;32m   3025\u001b[0m     \u001b[38;5;241m*\u001b[39m\u001b[38;5;241m*\u001b[39mkwargs,\n\u001b[1;32m   3026\u001b[0m ) \u001b[38;5;241m-\u001b[39m\u001b[38;5;241m>\u001b[39m ErrorbarContainer:\n\u001b[0;32m-> 3027\u001b[0m     \u001b[38;5;28;01mreturn\u001b[39;00m gca()\u001b[38;5;241m.\u001b[39merrorbar(\n\u001b[1;32m   3028\u001b[0m         x,\n\u001b[1;32m   3029\u001b[0m         y,\n\u001b[1;32m   3030\u001b[0m         yerr\u001b[38;5;241m=\u001b[39myerr,\n\u001b[1;32m   3031\u001b[0m         xerr\u001b[38;5;241m=\u001b[39mxerr,\n\u001b[1;32m   3032\u001b[0m         fmt\u001b[38;5;241m=\u001b[39mfmt,\n\u001b[1;32m   3033\u001b[0m         ecolor\u001b[38;5;241m=\u001b[39mecolor,\n\u001b[1;32m   3034\u001b[0m         elinewidth\u001b[38;5;241m=\u001b[39melinewidth,\n\u001b[1;32m   3035\u001b[0m         capsize\u001b[38;5;241m=\u001b[39mcapsize,\n\u001b[1;32m   3036\u001b[0m         barsabove\u001b[38;5;241m=\u001b[39mbarsabove,\n\u001b[1;32m   3037\u001b[0m         lolims\u001b[38;5;241m=\u001b[39mlolims,\n\u001b[1;32m   3038\u001b[0m         uplims\u001b[38;5;241m=\u001b[39muplims,\n\u001b[1;32m   3039\u001b[0m         xlolims\u001b[38;5;241m=\u001b[39mxlolims,\n\u001b[1;32m   3040\u001b[0m         xuplims\u001b[38;5;241m=\u001b[39mxuplims,\n\u001b[1;32m   3041\u001b[0m         errorevery\u001b[38;5;241m=\u001b[39merrorevery,\n\u001b[1;32m   3042\u001b[0m         capthick\u001b[38;5;241m=\u001b[39mcapthick,\n\u001b[1;32m   3043\u001b[0m         \u001b[38;5;241m*\u001b[39m\u001b[38;5;241m*\u001b[39m({\u001b[38;5;124m\"\u001b[39m\u001b[38;5;124mdata\u001b[39m\u001b[38;5;124m\"\u001b[39m: data} \u001b[38;5;28;01mif\u001b[39;00m data \u001b[38;5;129;01mis\u001b[39;00m \u001b[38;5;129;01mnot\u001b[39;00m \u001b[38;5;28;01mNone\u001b[39;00m \u001b[38;5;28;01melse\u001b[39;00m {}),\n\u001b[1;32m   3044\u001b[0m         \u001b[38;5;241m*\u001b[39m\u001b[38;5;241m*\u001b[39mkwargs,\n\u001b[1;32m   3045\u001b[0m     )\n",
      "File \u001b[0;32m~/anaconda3/envs/pymc5_env/lib/python3.11/site-packages/matplotlib/__init__.py:1465\u001b[0m, in \u001b[0;36m_preprocess_data.<locals>.inner\u001b[0;34m(ax, data, *args, **kwargs)\u001b[0m\n\u001b[1;32m   1462\u001b[0m \u001b[38;5;129m@functools\u001b[39m\u001b[38;5;241m.\u001b[39mwraps(func)\n\u001b[1;32m   1463\u001b[0m \u001b[38;5;28;01mdef\u001b[39;00m \u001b[38;5;21minner\u001b[39m(ax, \u001b[38;5;241m*\u001b[39margs, data\u001b[38;5;241m=\u001b[39m\u001b[38;5;28;01mNone\u001b[39;00m, \u001b[38;5;241m*\u001b[39m\u001b[38;5;241m*\u001b[39mkwargs):\n\u001b[1;32m   1464\u001b[0m     \u001b[38;5;28;01mif\u001b[39;00m data \u001b[38;5;129;01mis\u001b[39;00m \u001b[38;5;28;01mNone\u001b[39;00m:\n\u001b[0;32m-> 1465\u001b[0m         \u001b[38;5;28;01mreturn\u001b[39;00m func(ax, \u001b[38;5;241m*\u001b[39m\u001b[38;5;28mmap\u001b[39m(sanitize_sequence, args), \u001b[38;5;241m*\u001b[39m\u001b[38;5;241m*\u001b[39mkwargs)\n\u001b[1;32m   1467\u001b[0m     bound \u001b[38;5;241m=\u001b[39m new_sig\u001b[38;5;241m.\u001b[39mbind(ax, \u001b[38;5;241m*\u001b[39margs, \u001b[38;5;241m*\u001b[39m\u001b[38;5;241m*\u001b[39mkwargs)\n\u001b[1;32m   1468\u001b[0m     auto_label \u001b[38;5;241m=\u001b[39m (bound\u001b[38;5;241m.\u001b[39marguments\u001b[38;5;241m.\u001b[39mget(label_namer)\n\u001b[1;32m   1469\u001b[0m                   \u001b[38;5;129;01mor\u001b[39;00m bound\u001b[38;5;241m.\u001b[39mkwargs\u001b[38;5;241m.\u001b[39mget(label_namer))\n",
      "File \u001b[0;32m~/anaconda3/envs/pymc5_env/lib/python3.11/site-packages/matplotlib/axes/_axes.py:3569\u001b[0m, in \u001b[0;36mAxes.errorbar\u001b[0;34m(self, x, y, yerr, xerr, fmt, ecolor, elinewidth, capsize, barsabove, lolims, uplims, xlolims, xuplims, errorevery, capthick, **kwargs)\u001b[0m\n\u001b[1;32m   3567\u001b[0m x, y \u001b[38;5;241m=\u001b[39m np\u001b[38;5;241m.\u001b[39matleast_1d(x, y)  \u001b[38;5;66;03m# Make sure all the args are iterable.\u001b[39;00m\n\u001b[1;32m   3568\u001b[0m \u001b[38;5;28;01mif\u001b[39;00m \u001b[38;5;28mlen\u001b[39m(x) \u001b[38;5;241m!=\u001b[39m \u001b[38;5;28mlen\u001b[39m(y):\n\u001b[0;32m-> 3569\u001b[0m     \u001b[38;5;28;01mraise\u001b[39;00m \u001b[38;5;167;01mValueError\u001b[39;00m(\u001b[38;5;124m\"\u001b[39m\u001b[38;5;124m'\u001b[39m\u001b[38;5;124mx\u001b[39m\u001b[38;5;124m'\u001b[39m\u001b[38;5;124m and \u001b[39m\u001b[38;5;124m'\u001b[39m\u001b[38;5;124my\u001b[39m\u001b[38;5;124m'\u001b[39m\u001b[38;5;124m must have the same size\u001b[39m\u001b[38;5;124m\"\u001b[39m)\n\u001b[1;32m   3571\u001b[0m everymask \u001b[38;5;241m=\u001b[39m \u001b[38;5;28mself\u001b[39m\u001b[38;5;241m.\u001b[39m_errorevery_to_mask(x, errorevery)\n\u001b[1;32m   3573\u001b[0m label \u001b[38;5;241m=\u001b[39m kwargs\u001b[38;5;241m.\u001b[39mpop(\u001b[38;5;124m\"\u001b[39m\u001b[38;5;124mlabel\u001b[39m\u001b[38;5;124m\"\u001b[39m, \u001b[38;5;28;01mNone\u001b[39;00m)\n",
      "\u001b[0;31mValueError\u001b[0m: 'x' and 'y' must have the same size"
     ]
    },
    {
     "data": {
      "image/png": "[encoded data removed]",
      "text/plain": [
       "<Figure size 600x600 with 1 Axes>"
      ]
     },
     "metadata": {},
     "output_type": "display_data"
    }
   ],
   "source": [
    "fig = plt.figure(figsize=(6, 6))\n",
    "\n",
    "\n",
    "\n",
    "plt.errorbar(cluster_cat['m200c'], results['m200_med']/cosmo.h, \n",
    "             yerr=[(results['m200_med'] - results['m200_perc_16'])/cosmo.h, \n",
    "                   (results['m200_perc_84'] - results['m200_med'])/cosmo.h], \n",
    "             fmt='.',\n",
    "            )\n",
    "\n",
    "\n",
    "plt.plot([5e12, 3e15], [5e12, 3e15], color='black', label='1 to 1')\n",
    "\n",
    "\n",
    "plt.xlim([5e12, 3e15])\n",
    "plt.ylim([5e12, 3e15])\n",
    "\n",
    "plt.xlabel('Dustgrain catalog M200 [$M_{\\odot}/h$]')\n",
    "plt.ylabel('Weak lensing M200 [$M_{\\odot}/h$]')\n",
    "plt.legend()\n",
    "\n",
    "plt.loglog()"
   ]
  },
  {
   "cell_type": "markdown",
   "id": "3f861b3a",
   "metadata": {},
   "source": [
    "## Taking a look at the results on an individual cluster"
   ]
  },
  {
   "cell_type": "markdown",
   "id": "e65eb946",
   "metadata": {},
   "source": [
    "### We can easily look at the results fby intializing the WLdata class for a given cluster (here lens_id = 0), the function \"wldata_from_ID\" is here for that, and can additionnally compute the shear, e.g. with median parameters : "
   ]
  },
  {
   "cell_type": "code",
   "execution_count": 10,
   "id": "43347122",
   "metadata": {},
   "outputs": [],
   "source": [
    "wldata, gplus_med, rm = wlcl.wldata_from_ID(lens_id = 0, \n",
    "                                            cluster_cat = cluster_cat, \n",
    "                                            shear_profiles = shear_profiles, \n",
    "                                            results = results, \n",
    "                                            return_shear=True,\n",
    "                                            return_shear_model='median parameters', \n",
    "                                            cosmo=cosmo)"
   ]
  },
  {
   "cell_type": "code",
   "execution_count": 11,
   "id": "a83ed1ea",
   "metadata": {},
   "outputs": [
    {
     "data": {
      "text/plain": [
       "<matplotlib.legend.Legend at 0x2ac983810>"
      ]
     },
     "execution_count": 11,
     "metadata": {},
     "output_type": "execute_result"
    },
    {
     "data": {
      "image/png": "[encoded data removed]",
      "text/plain": [
       "<Figure size 640x480 with 1 Axes>"
      ]
     },
     "metadata": {},
     "output_type": "display_data"
    }
   ],
   "source": [
    "plt.errorbar(wldata.rref_wl, wldata.gplus, yerr = wldata.err_gplus, fmt='.', color='black')\n",
    "plt.plot(rm, gplus_med, label='median parameters model')\n",
    "plt.xlabel('Radius [Mpc]')\n",
    "plt.ylabel(r'$\\langle g_+(\\theta) \\rangle$')\n",
    "plt.loglog()\n",
    "plt.legend()"
   ]
  },
  {
   "cell_type": "markdown",
   "id": "aacc48ad",
   "metadata": {},
   "source": [
    "### We can also compute the posterior model for each drow of the MCMC, but depending on the number of samples (typically 4000), this can be a bit time consumming, for this reason, we pick a random subset of 500 elements."
   ]
  },
  {
   "cell_type": "code",
   "execution_count": 12,
   "id": "ac048e99",
   "metadata": {},
   "outputs": [
    {
     "name": "stderr",
     "output_type": "stream",
     "text": [
      "100%|█████████████████████████████████████████| 500/500 [00:09<00:00, 53.51it/s]\n"
     ]
    }
   ],
   "source": [
    "wldata, gplus_enveloppe, rm = wlcl.wldata_from_ID(0, \n",
    "                   cluster_cat, \n",
    "                   shear_profiles, \n",
    "                   results, \n",
    "                   all_chains=all_chains,\n",
    "                   return_shear=True,\n",
    "                   return_shear_model='enveloppe', \n",
    "                   cosmo=cosmo)"
   ]
  },
  {
   "cell_type": "code",
   "execution_count": 13,
   "id": "8024a8d7",
   "metadata": {},
   "outputs": [],
   "source": [
    "contours = np.percentile(gplus_enveloppe, [16, 84], axis=0)"
   ]
  },
  {
   "cell_type": "code",
   "execution_count": 14,
   "id": "12ef6175",
   "metadata": {},
   "outputs": [
    {
     "data": {
      "image/png": "[encoded data removed]",
      "text/plain": [
       "<Figure size 640x480 with 2 Axes>"
      ]
     },
     "metadata": {},
     "output_type": "display_data"
    }
   ],
   "source": [
    "fig, ax = plt.subplots()\n",
    "\n",
    "plt.errorbar(wldata.rref_wl, wldata.gplus, yerr = wldata.err_gplus, fmt='.', color='black')\n",
    "plt.plot(rm, gplus_med, label='median parameters model')\n",
    "plt.fill_between(rm, contours[0], contours[1], alpha=0.3, label='posterior enveloppe')\n",
    "plt.xlabel('Radius [Mpc]')\n",
    "plt.ylabel(r'$\\langle g_+(\\theta) \\rangle$')\n",
    "plt.loglog()\n",
    "plt.legend()\n",
    "# set arcmin axis\n",
    "radii_arcmin = (wldata.rin_wl_am + wldata.rout_wl_am)/2\n",
    "ax2 = ax.twiny()\n",
    "ax2.set_xscale('log')\n",
    "ax2.set_yscale('log')\n",
    "ax2.set_xlabel('Radius [armin]')\n",
    "ax2.set_xlim(min(radii_arcmin), max(radii_arcmin))\n",
    "\n",
    "plt.tight_layout()"
   ]
  },
  {
   "cell_type": "code",
   "execution_count": null,
   "id": "108edc24",
   "metadata": {},
   "outputs": [],
   "source": []
  }
 ],
 "metadata": {
  "kernelspec": {
   "display_name": "pymc5_env",
   "language": "python",
   "name": "pymc5_env"
  },
  "language_info": {
   "codemirror_mode": {
    "name": "ipython",
    "version": 3
   },
   "file_extension": ".py",
   "mimetype": "text/x-python",
   "name": "python",
   "nbconvert_exporter": "python",
   "pygments_lexer": "ipython3",
   "version": "3.11.6"
  }
 },
 "nbformat": 4,
 "nbformat_minor": 5
}
