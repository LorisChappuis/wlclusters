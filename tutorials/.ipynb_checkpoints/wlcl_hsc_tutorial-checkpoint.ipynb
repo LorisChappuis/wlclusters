{
 "cells": [
  {
   "cell_type": "code",
   "execution_count": 1,
   "id": "664046e5",
   "metadata": {},
   "outputs": [],
   "source": [
    "import pymc as pm\n",
    "import numpy as np\n",
    "from astropy import units as u\n",
    "from astropy import constants as c\n",
    "import arviz as az\n",
    "from astropy.table import Table\n",
    "import matplotlib.pyplot as plt\n",
    "from tqdm import tqdm\n",
    "import wlclusters as wlcl"
   ]
  },
  {
   "cell_type": "markdown",
   "id": "7fabeb4c",
   "metadata": {},
   "source": [
    "## I - Loading data\n",
    "### Intialize the chosen cosmology using astropy:\n"
   ]
  },
  {
   "cell_type": "code",
   "execution_count": 2,
   "id": "627a9b75",
   "metadata": {},
   "outputs": [],
   "source": [
    "from astropy.cosmology import Planck18 as cosmo"
   ]
  },
  {
   "cell_type": "markdown",
   "id": "1f0b81f3",
   "metadata": {},
   "source": [
    "### Load the sources and cluster catalogues:"
   ]
  },
  {
   "cell_type": "code",
   "execution_count": 3,
   "id": "4e34e109",
   "metadata": {},
   "outputs": [],
   "source": [
    "sourcesHECTOMAP = Table.read('sources_HECTOMAP.fits', format='fits', memmap=True)"
   ]
  },
  {
   "cell_type": "code",
   "execution_count": 4,
   "id": "e8d59cfe",
   "metadata": {},
   "outputs": [],
   "source": [
    "cluster_cat = Table.read('./hamana_clusters.fits', format='fits', memmap=True)"
   ]
  },
  {
   "cell_type": "markdown",
   "id": "0a2be73c",
   "metadata": {},
   "source": [
    "### Keeping only the subsample of clusters that fall in the sources fov (here the hectomap field)"
   ]
  },
  {
   "cell_type": "code",
   "execution_count": 5,
   "id": "a34a70c0",
   "metadata": {},
   "outputs": [],
   "source": [
    "ra_min = sourcesHECTOMAP['RA'].min()\n",
    "ra_max = sourcesHECTOMAP['RA'].max()\n",
    "dec_min = sourcesHECTOMAP['Dec'].min()\n",
    "dec_max = sourcesHECTOMAP['Dec'].max()\n",
    "\n",
    "# Filter the cluster catalogue to include only clusters within the field of view\n",
    "filtered_cluster_cat = cluster_cat[\n",
    "    (cluster_cat['RA'] >= ra_min) &\n",
    "    (cluster_cat['RA'] <= ra_max) &\n",
    "    (cluster_cat['Dec'] >= dec_min) &\n",
    "    (cluster_cat['Dec'] <= dec_max)\n",
    "]"
   ]
  },
  {
   "cell_type": "markdown",
   "id": "9e1c678f",
   "metadata": {},
   "source": [
    "## II - Profile extraction and fitting\n",
    "### Defining the binning in which the extraction and the fitting will be done (in Mpc proper)"
   ]
  },
  {
   "cell_type": "code",
   "execution_count": 6,
   "id": "4644498a",
   "metadata": {},
   "outputs": [],
   "source": [
    "bin_edges = np.logspace(np.log10(0.3), np.log10(3.0), 8)"
   ]
  },
  {
   "cell_type": "markdown",
   "id": "479a43cc",
   "metadata": {},
   "source": [
    "### Using the cluster catalogue and the source catalogue, the \"shear_extraction\" function will extract the 1D shear profile around each cluster, in a given radial range (bin_edges) and using sources at a given redshift behind the lens (dz)."
   ]
  },
  {
   "cell_type": "code",
   "execution_count": 7,
   "id": "83908d65",
   "metadata": {},
   "outputs": [
    {
     "name": "stderr",
     "output_type": "stream",
     "text": [
      "Processing Clusters: 100%|███████████████████████████████████████████████████████████████████████████████████████| 3/3 [00:00<00:00,  4.02it/s]\n"
     ]
    }
   ],
   "source": [
    "# Extract shear profiles\n",
    "shear_profiles = wlcl.shear_extraction(cluster_cat=filtered_cluster_cat, \n",
    "                                  sources=sourcesHECTOMAP, \n",
    "                                  bin_edges=bin_edges,\n",
    "                                  dz=0.1,\n",
    "                                  cosmo = cosmo)"
   ]
  },
  {
   "cell_type": "markdown",
   "id": "09759993",
   "metadata": {},
   "source": [
    "### We can now run the MCMC, which will return two astropy tables, one containing the posteriors of each parameter (all_chains) and one containing a wrap up of the same information: median values, 16th and 84th percentiles (results)."
   ]
  },
  {
   "cell_type": "code",
   "execution_count": null,
   "id": "2d4ba3fb",
   "metadata": {},
   "outputs": [
    {
     "name": "stderr",
     "output_type": "stream",
     "text": [
      "  0%|                                                                                                                    | 0/3 [00:00<?, ?it/s]Auto-assigning NUTS sampler...\n",
      "Initializing NUTS using jitter+adapt_diag...\n",
      "Multiprocess sampling (4 chains in 4 jobs)\n",
      "NUTS: [cdelt, rdelt]\n"
     ]
    },
    {
     "data": {
      "application/vnd.jupyter.widget-view+json": {
       "model_id": "b3b1918dd352415492f2dd008344d738",
       "version_major": 2,
       "version_minor": 0
      },
      "text/plain": [
       "Output()"
      ]
     },
     "metadata": {},
     "output_type": "display_data"
    },
    {
     "data": {
      "text/html": [
       "<pre style=\"white-space:pre;overflow-x:auto;line-height:normal;font-family:Menlo,'DejaVu Sans Mono',consolas,'Courier New',monospace\"></pre>\n"
      ],
      "text/plain": []
     },
     "metadata": {},
     "output_type": "display_data"
    },
    {
     "data": {
      "text/html": [
       "<pre style=\"white-space:pre;overflow-x:auto;line-height:normal;font-family:Menlo,'DejaVu Sans Mono',consolas,'Courier New',monospace\">\n",
       "</pre>\n"
      ],
      "text/plain": [
       "\n"
      ]
     },
     "metadata": {},
     "output_type": "display_data"
    },
    {
     "name": "stderr",
     "output_type": "stream",
     "text": [
      "Sampling 4 chains for 1_000 tune and 2_000 draw iterations (4_000 + 8_000 draws total) took 6 seconds.\n",
      " 33%|████████████████████████████████████                                                                        | 1/3 [00:50<01:40, 50.41s/it]Auto-assigning NUTS sampler...\n",
      "Initializing NUTS using jitter+adapt_diag...\n",
      "Multiprocess sampling (4 chains in 4 jobs)\n",
      "NUTS: [cdelt, rdelt]\n"
     ]
    },
    {
     "data": {
      "application/vnd.jupyter.widget-view+json": {
       "model_id": "a93503ceca9d46599a9f101a4cdbec99",
       "version_major": 2,
       "version_minor": 0
      },
      "text/plain": [
       "Output()"
      ]
     },
     "metadata": {},
     "output_type": "display_data"
    },
    {
     "data": {
      "text/html": [
       "<pre style=\"white-space:pre;overflow-x:auto;line-height:normal;font-family:Menlo,'DejaVu Sans Mono',consolas,'Courier New',monospace\"></pre>\n"
      ],
      "text/plain": []
     },
     "metadata": {},
     "output_type": "display_data"
    },
    {
     "data": {
      "text/html": [
       "<pre style=\"white-space:pre;overflow-x:auto;line-height:normal;font-family:Menlo,'DejaVu Sans Mono',consolas,'Courier New',monospace\">\n",
       "</pre>\n"
      ],
      "text/plain": [
       "\n"
      ]
     },
     "metadata": {},
     "output_type": "display_data"
    },
    {
     "name": "stderr",
     "output_type": "stream",
     "text": [
      "Sampling 4 chains for 1_000 tune and 2_000 draw iterations (4_000 + 8_000 draws total) took 5 seconds.\n",
      " 67%|████████████████████████████████████████████████████████████████████████                                    | 2/3 [01:27<00:42, 42.83s/it]Auto-assigning NUTS sampler...\n",
      "Initializing NUTS using jitter+adapt_diag...\n"
     ]
    }
   ],
   "source": [
    "all_chains, results = wlcl.run(cluster_cat=filtered_cluster_cat, \n",
    "                 shear_profiles=shear_profiles, \n",
    "                 cosmo=cosmo)"
   ]
  },
  {
   "cell_type": "code",
   "execution_count": null,
   "id": "1901c0cb",
   "metadata": {},
   "outputs": [],
   "source": [
    "results"
   ]
  },
  {
   "cell_type": "markdown",
   "id": "f61943cb",
   "metadata": {},
   "source": [
    "## III - Data visualisation \n",
    "### We can use the wldata_from_ID function to recover the shear envelopes of a given cluster thanks to its ID, here the 3 cluster have IDs 101, 102 and 103 (by using 'median parameters' instead of 'envelope' one can also return the shear profile given by the median parameters instead of the envelope):"
   ]
  },
  {
   "cell_type": "code",
   "execution_count": null,
   "id": "0c3d3b49",
   "metadata": {},
   "outputs": [],
   "source": [
    "wldata101, gplus_envelope101, rm101 = wlcl.wldata_from_ID(101, \n",
    "                   filtered_cluster_cat, \n",
    "                   shear_profiles, \n",
    "                   results, \n",
    "                   all_chains=all_chains,\n",
    "                   return_shear=True,\n",
    "                   return_shear_model='envelope', \n",
    "                   cosmo=cosmo)\n",
    "\n",
    "wldata102, gplus_envelope102, rm102 = wlcl.wldata_from_ID(102, \n",
    "                   filtered_cluster_cat, \n",
    "                   shear_profiles, \n",
    "                   results, \n",
    "                   all_chains=all_chains,\n",
    "                   return_shear=True,\n",
    "                   return_shear_model='envelope', \n",
    "                   cosmo=cosmo)\n",
    "\n",
    "wldata103, gplus_envelope103, rm103 = wlcl.wldata_from_ID(103, \n",
    "                   filtered_cluster_cat, \n",
    "                   shear_profiles, \n",
    "                   results, \n",
    "                   all_chains=all_chains,\n",
    "                   return_shear=True,\n",
    "                   return_shear_model='envelope', \n",
    "                   cosmo=cosmo)"
   ]
  },
  {
   "cell_type": "markdown",
   "id": "aae6af70",
   "metadata": {},
   "source": [
    "### We can use the 16th and 84th percentiles of the envelopes as contours to be plotted:"
   ]
  },
  {
   "cell_type": "code",
   "execution_count": null,
   "id": "580bd89b",
   "metadata": {},
   "outputs": [],
   "source": [
    "contours101 = np.percentile(gplus_envelope101, [16, 84], axis=0)\n",
    "contours102 = np.percentile(gplus_envelope102, [16, 84], axis=0)\n",
    "contours103 = np.percentile(gplus_envelope103, [16, 84], axis=0)"
   ]
  },
  {
   "cell_type": "code",
   "execution_count": null,
   "id": "5da31e28",
   "metadata": {},
   "outputs": [],
   "source": [
    "fig, axes = plt.subplots(3, 1, figsize=(8, 15))\n",
    "\n",
    "# Function to plot each dataset\n",
    "def plot_data(ax, wldata, contours, rm, title):\n",
    "    ax.errorbar(wldata.rref_wl, wldata.gplus, yerr=wldata.err_gplus, fmt='.', color='black')\n",
    "    ax.fill_between(rm, contours[0], contours[1], alpha=0.3, label='posterior envelope')\n",
    "    ax.set_xlabel('Radius [Mpc]')\n",
    "    ax.set_ylabel(r'$\\langle g_+(\\theta) \\rangle$')\n",
    "    ax.loglog()\n",
    "    ax.legend()\n",
    "    ax.set_title(title)\n",
    "\n",
    "    # Add arcmin axis\n",
    "    radii_arcmin = (wldata.rin_wl_am + wldata.rout_wl_am) / 2\n",
    "    ax2 = ax.twiny()\n",
    "    ax2.set_xscale('log')\n",
    "    ax2.set_xlabel('Radius [arcmin]')\n",
    "    ax2.set_xlim(min(radii_arcmin), max(radii_arcmin))\n",
    "\n",
    "# Plot for ID 101\n",
    "plot_data(axes[0], wldata101, contours101, rm101, 'ID 101')\n",
    "\n",
    "# Plot for ID 102\n",
    "plot_data(axes[1], wldata102, contours102, rm102, 'ID 102')\n",
    "\n",
    "# Plot for ID 103\n",
    "plot_data(axes[2], wldata103, contours103, rm103, 'ID 103')\n",
    "\n",
    "plt.tight_layout()\n",
    "plt.show()"
   ]
  },
  {
   "cell_type": "code",
   "execution_count": null,
   "id": "6a82cb0d",
   "metadata": {},
   "outputs": [],
   "source": [
    "# results.write('./results_wlcl_hectomap.fits', format='fits', overwrite=True)\n",
    "# all_chains.write('./chains_wlcl_hectomap.fits', format='fits', overwrite=True)"
   ]
  },
  {
   "cell_type": "code",
   "execution_count": null,
   "id": "f69b6a3f",
   "metadata": {},
   "outputs": [],
   "source": []
  }
 ],
 "metadata": {
  "kernelspec": {
   "display_name": "wlcl_env",
   "language": "python",
   "name": "wlcl_env"
  },
  "language_info": {
   "codemirror_mode": {
    "name": "ipython",
    "version": 3
   },
   "file_extension": ".py",
   "mimetype": "text/x-python",
   "name": "python",
   "nbconvert_exporter": "python",
   "pygments_lexer": "ipython3",
   "version": "3.12.3"
  }
 },
 "nbformat": 4,
 "nbformat_minor": 5
}
